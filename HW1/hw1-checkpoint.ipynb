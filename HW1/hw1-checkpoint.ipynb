{
 "cells": [
  {
   "cell_type": "code",
   "execution_count": 10,
   "id": "5cd8bcde-a1a3-4773-bd7c-82c3ef785036",
   "metadata": {},
   "outputs": [],
   "source": [
    "\n",
    "import pandas as pd\n",
    "import numpy as np\n",
    "from sklearn.decomposition import PCA\n",
    "from sklearn.linear_model import LinearRegression\n",
    "import os\n"
   ]
  },
  {
   "cell_type": "code",
   "execution_count": 17,
   "id": "35348af4-f299-45d0-b9e5-75f23ce96bed",
   "metadata": {},
   "outputs": [
    {
     "data": {
      "text/plain": [
       "Index(['Y', 'X1', 'X2', 'X3', 'X4', 'X5', 'X6', 'X7', 'X8', 'X9',\n",
       "       ...\n",
       "       'X482', 'X483', 'X484', 'X485', 'X486', 'X487', 'X488', 'X489', 'X490',\n",
       "       'X491'],\n",
       "      dtype='object', length=492)"
      ]
     },
     "execution_count": 17,
     "metadata": {},
     "output_type": "execute_result"
    }
   ],
   "source": [
    "data_path = \"/Users/ravishanker/Documents/GITHUB/DataScience\"\n",
    "data = pd.read_csv(os.path.join(data_path, \"test_sample.csv\"))\n",
    "data.keys()"
   ]
  },
  {
   "cell_type": "code",
   "execution_count": 28,
   "id": "4b2063c7-5515-47bc-a460-a64a356d027f",
   "metadata": {},
   "outputs": [
    {
     "ename": "SyntaxError",
     "evalue": "invalid syntax (47721567.py, line 24)",
     "output_type": "error",
     "traceback": [
      "\u001b[0;36m  Cell \u001b[0;32mIn[28], line 24\u001b[0;36m\u001b[0m\n\u001b[0;31m    if r_squared > = 0.9:\u001b[0m\n\u001b[0m                   ^\u001b[0m\n\u001b[0;31mSyntaxError\u001b[0m\u001b[0;31m:\u001b[0m invalid syntax\n"
     ]
    }
   ],
   "source": [
    "# Step 2: Find n_orig\n",
    "# Initialize variables\n",
    "\n",
    "# Extract the dependent variable Y and independent variables X\n",
    "Y = data['Y']\n",
    "X = data.drop(columns=['Y'])\n",
    "\n",
    "# Initialize variables\n",
    "n_orig = None\n",
    "\n",
    "# Iterate over different numbers of regressors\n",
    "for j in range(2, 492):\n",
    "    # Select the first j regressors\n",
    "    X_subset = X.iloc[:, :j]\n",
    "    \n",
    "    # Fit a linear regression model\n",
    "    model = LinearRegression()\n",
    "    model.fit(X_subset, Y)\n",
    "    \n",
    "    # Calculate the determination coefficient (R-squared)\n",
    "    r_squared = model.score(X_subset, Y)\n",
    "    \n",
    "    # Check if R-squared is greater than 0.9\n",
    "    if r_squared > 0.9:\n",
    "        n_orig = j\n",
    "        break\n",
    "\n",
    "# Print the smallest number of regressors making R-squared greater than 0.9\n",
    "print(\"Smallest number of regressors with R-squared > 0.9:\", n_orig)"
   ]
  },
  {
   "cell_type": "code",
   "execution_count": 27,
   "id": "844fd96a-5190-44f5-8430-7575049be503",
   "metadata": {},
   "outputs": [
    {
     "name": "stdout",
     "output_type": "stream",
     "text": [
      "Model Dimensionality Reduction: 95\n",
      "Determination Coefficient of PCA Model: 0.90035\n"
     ]
    }
   ],
   "source": [
    "n_PCA = None\n",
    "if n_orig is not None:\n",
    "    pca = PCA()\n",
    "    X_pca = pca.fit_transform(X)\n",
    "    pca_r2 = pca.explained_variance_ratio_.cumsum()\n",
    "    n_PCA = next(i for i, var in enumerate(pca_r2) if var > 0.9)\n",
    "\n",
    "# Calculate model dimensionality reduction\n",
    "model_dim_reduction = n_orig - n_PCA if n_PCA is not None else None\n",
    "\n",
    "# Print results\n",
    "print(\"Model Dimensionality Reduction:\", round(model_dim_reduction, 5))\n",
    "print(\"Determination Coefficient of PCA Model:\", round(pca_r2[n_PCA], 5) if n_PCA is not None else None)\n"
   ]
  },
  {
   "cell_type": "code",
   "execution_count": 24,
   "id": "1c8fda24-cebe-44bc-9a1e-d60c55560eaf",
   "metadata": {},
   "outputs": [],
   "source": [
    "# Step 4: Calculate model dimensionality reduction\n",
    "model_dimensionality_reduction = n_orig - n_PCA"
   ]
  },
  {
   "cell_type": "code",
   "execution_count": 25,
   "id": "3f480abc-7f25-4c28-9a33-33fde160cd04",
   "metadata": {},
   "outputs": [
    {
     "name": "stdout",
     "output_type": "stream",
     "text": [
      "Model Dimensionality Reduction: 94\n",
      "Determination Coefficient (R-squared) for n_PCA model: 0.90066\n"
     ]
    }
   ],
   "source": [
    "# Output the results\n",
    "print(\"Model Dimensionality Reduction:\", round(model_dimensionality_reduction, 5))\n",
    "print(\"Determination Coefficient (R-squared) for n_PCA model:\", round(cumulative_variance_ratio[n_PCA - 1], 5))\n"
   ]
  },
  {
   "cell_type": "code",
   "execution_count": 8,
   "id": "1e03e8b8-519d-4f32-aecb-08b36f1ba000",
   "metadata": {},
   "outputs": [
    {
     "name": "stdout",
     "output_type": "stream",
     "text": [
      "Smallest number of PCA factors making R^2 > 0.9: 242\n"
     ]
    }
   ],
   "source": []
  },
  {
   "cell_type": "code",
   "execution_count": 9,
   "id": "bea40b11-d1e8-4a23-9d43-baa872a7c420",
   "metadata": {},
   "outputs": [
    {
     "name": "stdout",
     "output_type": "stream",
     "text": [
      "Model dimensionality reduction: 104\n",
      "Determination coefficient with n_PCA factors: 0.90662\n"
     ]
    }
   ],
   "source": []
  },
  {
   "cell_type": "code",
   "execution_count": null,
   "id": "cb6fd451-ab5f-4886-8399-da034b22be3c",
   "metadata": {},
   "outputs": [],
   "source": []
  }
 ],
 "metadata": {
  "kernelspec": {
   "display_name": "Python 3 (ipykernel)",
   "language": "python",
   "name": "python3"
  },
  "language_info": {
   "codemirror_mode": {
    "name": "ipython",
    "version": 3
   },
   "file_extension": ".py",
   "mimetype": "text/x-python",
   "name": "python",
   "nbconvert_exporter": "python",
   "pygments_lexer": "ipython3",
   "version": "3.9.18"
  }
 },
 "nbformat": 4,
 "nbformat_minor": 5
}
