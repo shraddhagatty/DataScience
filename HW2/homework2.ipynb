{
 "cells": [
  {
   "cell_type": "code",
   "execution_count": 1,
   "id": "3766d072-f7f0-4d66-ab13-2037244a7795",
   "metadata": {},
   "outputs": [],
   "source": [
    "%matplotlib inline\n",
    "import matplotlib.pyplot as plt\n",
    "import numpy as np\n",
    "import pandas as pd\n",
    "import os\n",
    "import statsmodels.api as sm\n",
    "from sklearn.linear_model import LassoCV\n",
    "from sklearn.linear_model import Lasso\n"
   ]
  },
  {
   "cell_type": "code",
   "execution_count": 2,
   "id": "49e23694-67d8-4895-92fc-7f92f3f3d034",
   "metadata": {},
   "outputs": [],
   "source": [
    "# Actual data path\n",
    "data_path = \"/Users/ravishanker/Documents/GITHUB/DataScience/HW2\"\n",
    "data = pd.read_csv(os.path.join(data_path, \"test_sample.csv\"))"
   ]
  },
  {
   "cell_type": "code",
   "execution_count": 3,
   "id": "57267c9d-9432-4d3b-b6f6-5c267e813503",
   "metadata": {},
   "outputs": [],
   "source": [
    "Y=data['Y']\n",
    "X = data.drop('Y', axis=1)"
   ]
  },
  {
   "cell_type": "code",
   "execution_count": 18,
   "id": "5730df97-94ff-470b-a633-1901d8df8644",
   "metadata": {},
   "outputs": [
    {
     "name": "stdout",
     "output_type": "stream",
     "text": [
      "0.03268807770884018\n"
     ]
    }
   ],
   "source": [
    "# Lasso Regression\n",
    "lasso_model = LassoCV(cv=5, random_state=1)\n",
    "lasso_model.fit(X, Y)\n",
    "bestlam = lasso_model.alpha_\n",
    "print(bestlam)"
   ]
  },
  {
   "cell_type": "code",
   "execution_count": 19,
   "id": "5c55e418-5cbb-4cdc-8837-927084efb99e",
   "metadata": {},
   "outputs": [],
   "source": [
    "lasso_coef= lasso_model.coef_"
   ]
  },
  {
   "cell_type": "code",
   "execution_count": 20,
   "id": "bc492c5e-213c-4123-a5a0-7d055e4b5e0a",
   "metadata": {},
   "outputs": [
    {
     "name": "stdout",
     "output_type": "stream",
     "text": [
      "[ 37  51  77  78  79  95 107 138 140 146 167 178 204 208 212 223 227 237\n",
      " 241 248 257 270 282 322 332 338 345 349 352 383 388 423 437]\n"
     ]
    }
   ],
   "source": [
    "eliminated_by_Lasso = np.where(lasso_coef == 0)[0]\n",
    "print(eliminated_by_Lasso)"
   ]
  },
  {
   "cell_type": "code",
   "execution_count": 44,
   "id": "232eada5-20c8-4f63-91d4-73498473c8d4",
   "metadata": {},
   "outputs": [
    {
     "name": "stdout",
     "output_type": "stream",
     "text": [
      "[ 13  28  29 107 133 138 149 270 304 306 322 352 367 435 438 450 454 487]\n"
     ]
    }
   ],
   "source": [
    "#Fitting linear model\n",
    "\n",
    "linear_model = sm.OLS(Y, sm.add_constant(X)).fit()\n",
    "#print(linear_model.pvalues > 0.1)\n",
    "pvalues = linear_model.pvalues[1:]\n",
    "#print(pvalues)\n",
    "eliminated_by_lm = np.where(pvalues > 0.05)[0] # Exclude intercept and use two sided p-value\n",
    "print(eliminated_by_lm)"
   ]
  },
  {
   "cell_type": "code",
   "execution_count": 43,
   "id": "1ebc8a2b-180c-4b6f-bd26-59a82c095bb6",
   "metadata": {},
   "outputs": [],
   "source": [
    "lasso_zeros = ' '.join([str(idx) for idx in eliminated_by_Lasso])\n",
    "lm_zeros = ' '.join([str(idx) for idx in eliminated_by_lm])\n",
    "pd.DataFrame([lasso_zeros,lm_zeros], index = ['eliminated_by_Lasso','eliminated_by_lm']).to_csv('answer.csv')\n"
   ]
  },
  {
   "cell_type": "code",
   "execution_count": null,
   "id": "3f914a2e-748b-452c-bfa1-8ba3368214b4",
   "metadata": {},
   "outputs": [],
   "source": []
  }
 ],
 "metadata": {
  "kernelspec": {
   "display_name": "Python 3 (ipykernel)",
   "language": "python",
   "name": "python3"
  },
  "language_info": {
   "codemirror_mode": {
    "name": "ipython",
    "version": 3
   },
   "file_extension": ".py",
   "mimetype": "text/x-python",
   "name": "python",
   "nbconvert_exporter": "python",
   "pygments_lexer": "ipython3",
   "version": "3.9.18"
  }
 },
 "nbformat": 4,
 "nbformat_minor": 5
}
